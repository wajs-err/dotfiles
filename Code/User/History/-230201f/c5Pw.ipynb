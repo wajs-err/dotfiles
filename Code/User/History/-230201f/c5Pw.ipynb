{
 "cells": [
  {
   "cell_type": "code",
   "execution_count": 3,
   "metadata": {},
   "outputs": [],
   "source": [
    "import random\n",
    "\n",
    "import matplotlib.pyplot as plt\n",
    "import jax\n",
    "from jax import numpy as np\n",
    "from jax import scipy as sp"
   ]
  },
  {
   "cell_type": "code",
   "execution_count": 4,
   "metadata": {},
   "outputs": [],
   "source": [
    "def seed():\n",
    "    return jax.random.PRNGKey(random.randint(0, 228))"
   ]
  },
  {
   "cell_type": "code",
   "execution_count": 19,
   "metadata": {},
   "outputs": [],
   "source": [
    "for n in [2, 3, 4, 10, 50]:\n",
    "    diag = []\n",
    "    kappa = jax.random.uniform(seed()) * 4 + 1\n",
    "    posmax = random.randint(0, n - 1)\n",
    "    while True:\n",
    "        posmin = random.randint(0, n)\n",
    "        if posmin != posmax:\n",
    "            break\n",
    "    for i in range(n):\n",
    "        if i == posmax:\n",
    "            diag += [kappa]\n",
    "            continue\n",
    "        if i == posmin:\n",
    "            diag += [1.]\n",
    "            continue\n",
    "        diag += [jax.random.uniform(seed()) * (kappa - 1) + 1]\n",
    "    A = np.diag(np.array(diag))\n",
    "    alpha = 2 / (1. + kappa)"
   ]
  }
 ],
 "metadata": {
  "kernelspec": {
   "display_name": "Python 3",
   "language": "python",
   "name": "python3"
  },
  "language_info": {
   "codemirror_mode": {
    "name": "ipython",
    "version": 3
   },
   "file_extension": ".py",
   "mimetype": "text/x-python",
   "name": "python",
   "nbconvert_exporter": "python",
   "pygments_lexer": "ipython3",
   "version": "3.11.8"
  }
 },
 "nbformat": 4,
 "nbformat_minor": 2
}
