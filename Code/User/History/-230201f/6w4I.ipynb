{
 "cells": [
  {
   "cell_type": "code",
   "execution_count": 3,
   "metadata": {},
   "outputs": [],
   "source": [
    "import random\n",
    "\n",
    "import matplotlib.pyplot as plt\n",
    "import jax\n",
    "from jax import numpy as np\n",
    "from jax import scipy as sp"
   ]
  },
  {
   "cell_type": "code",
   "execution_count": 4,
   "metadata": {},
   "outputs": [],
   "source": [
    "def seed():\n",
    "    return jax.random.PRNGKey(random.randint(0, 228))"
   ]
  },
  {
   "cell_type": "code",
   "execution_count": 11,
   "metadata": {},
   "outputs": [
    {
     "name": "stdout",
     "output_type": "stream",
     "text": [
      "1.8250389 [Array(1.8250389, dtype=float32), Array(1.6210537, dtype=float32)]\n",
      "1.9028053 [1.0, Array(1.8990984, dtype=float32), Array(1.9028053, dtype=float32)]\n",
      "3.5949283 [1.0, Array(1.6708959, dtype=float32), Array(1.0309482, dtype=float32), Array(3.5949283, dtype=float32)]\n",
      "4.0572696 [Array(2.7863274, dtype=float32), Array(2.2963483, dtype=float32), Array(1.0990096, dtype=float32), Array(2.2963483, dtype=float32), Array(4.0572696, dtype=float32), Array(3.2773943, dtype=float32), Array(1.9287077, dtype=float32), Array(3.6079156, dtype=float32), Array(3.4283168, dtype=float32), Array(2.6718588, dtype=float32)]\n",
      "1.2666001 [Array(1.1219623, dtype=float32), Array(1.1283699, dtype=float32), Array(1.1065112, dtype=float32), Array(1.1383914, dtype=float32), Array(1.0689272, dtype=float32), Array(1.093482, dtype=float32), Array(1.1919103, dtype=float32), 1.0, Array(1.1734407, dtype=float32), Array(1.1599832, dtype=float32), Array(1.0612556, dtype=float32), Array(1.0048761, dtype=float32), Array(1.1716403, dtype=float32), Array(1.2117542, dtype=float32), Array(1.2666001, dtype=float32), Array(1.1919103, dtype=float32), Array(1.2655056, dtype=float32), Array(1.1985587, dtype=float32), Array(1.2305244, dtype=float32), Array(1.2029402, dtype=float32), Array(1.1065112, dtype=float32), Array(1.0588497, dtype=float32), Array(1.1610743, dtype=float32), Array(1.1801109, dtype=float32), Array(1.2188418, dtype=float32), Array(1.180568, dtype=float32), Array(1.1816998, dtype=float32), Array(1.0079513, dtype=float32), Array(1.1512522, dtype=float32), Array(1.1275048, dtype=float32), Array(1.1495895, dtype=float32), Array(1.247242, dtype=float32), Array(1.0084383, dtype=float32), Array(1.0314989, dtype=float32), Array(1.1481715, dtype=float32), Array(1.0645975, dtype=float32), Array(1.1115607, dtype=float32), Array(1.1284591, dtype=float32), Array(1.1076341, dtype=float32), Array(1.2204968, dtype=float32), Array(1.24683, dtype=float32), Array(1.2228343, dtype=float32), Array(1.1206279, dtype=float32), Array(1.2400236, dtype=float32), Array(1.2322347, dtype=float32), Array(1.0831361, dtype=float32), Array(1.1842952, dtype=float32), Array(1.0173743, dtype=float32), Array(1.1011922, dtype=float32), Array(1.0237155, dtype=float32)]\n"
     ]
    }
   ],
   "source": [
    "for n in [2, 3, 4, 10, 50]:\n",
    "    diag = []\n",
    "    kappa = jax.random.uniform(seed()) * 4 + 1\n",
    "    posmax = random.randint(0, n)\n",
    "    posmin = random.randint(0, n)\n",
    "    for i in range(n):\n",
    "        if i == posmax:\n",
    "            diag += [kappa]\n",
    "            continue\n",
    "        if i == posmin:\n",
    "            diag += [1.]\n",
    "            continue\n",
    "        diag += [jax.random.uniform(seed()) * (kappa - 1) + 1]\n",
    "    print(kappa, diag)"
   ]
  }
 ],
 "metadata": {
  "kernelspec": {
   "display_name": "Python 3",
   "language": "python",
   "name": "python3"
  },
  "language_info": {
   "codemirror_mode": {
    "name": "ipython",
    "version": 3
   },
   "file_extension": ".py",
   "mimetype": "text/x-python",
   "name": "python",
   "nbconvert_exporter": "python",
   "pygments_lexer": "ipython3",
   "version": "3.11.8"
  }
 },
 "nbformat": 4,
 "nbformat_minor": 2
}
