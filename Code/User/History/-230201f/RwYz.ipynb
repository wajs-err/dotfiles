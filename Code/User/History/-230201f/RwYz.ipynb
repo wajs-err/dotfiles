{
 "cells": [
  {
   "cell_type": "code",
   "execution_count": 3,
   "metadata": {},
   "outputs": [],
   "source": [
    "import random\n",
    "\n",
    "import matplotlib.pyplot as plt\n",
    "import jax\n",
    "from jax import numpy as np\n",
    "from jax import scipy as sp"
   ]
  },
  {
   "cell_type": "code",
   "execution_count": 4,
   "metadata": {},
   "outputs": [],
   "source": [
    "def seed():\n",
    "    return jax.random.PRNGKey(random.randint(0, 228))"
   ]
  },
  {
   "cell_type": "code",
   "execution_count": 18,
   "metadata": {},
   "outputs": [
    {
     "name": "stdout",
     "output_type": "stream",
     "text": [
      "[[1.0317409 0.       ]\n",
      " [0.        1.4870486]]\n",
      "[[1.       0.       0.      ]\n",
      " [0.       4.424951 0.      ]\n",
      " [0.       0.       1.198888]]\n",
      "[[1.2403105 0.        0.        0.       ]\n",
      " [0.        2.1091785 0.        0.       ]\n",
      " [0.        0.        1.3006626 0.       ]\n",
      " [0.        0.        0.        1.       ]]\n",
      "[[1.2709975 0.        0.        0.        0.        0.        0.\n",
      "  0.        0.        0.       ]\n",
      " [0.        1.3560061 0.        0.        0.        0.        0.\n",
      "  0.        0.        0.       ]\n",
      " [0.        0.        1.3545444 0.        0.        0.        0.\n",
      "  0.        0.        0.       ]\n",
      " [0.        0.        0.        1.1946809 0.        0.        0.\n",
      "  0.        0.        0.       ]\n",
      " [0.        0.        0.        0.        1.        0.        0.\n",
      "  0.        0.        0.       ]\n",
      " [0.        0.        0.        0.        0.        1.0065114 0.\n",
      "  0.        0.        0.       ]\n",
      " [0.        0.        0.        0.        0.        0.        1.2309526\n",
      "  0.        0.        0.       ]\n",
      " [0.        0.        0.        0.        0.        0.        0.\n",
      "  1.1986816 0.        0.       ]\n",
      " [0.        0.        0.        0.        0.        0.        0.\n",
      "  0.        1.1422304 0.       ]\n",
      " [0.        0.        0.        0.        0.        0.        0.\n",
      "  0.        0.        1.2802212]]\n",
      "[[1.3269908 0.        0.        ... 0.        0.        0.       ]\n",
      " [0.        1.018968  0.        ... 0.        0.        0.       ]\n",
      " [0.        0.        2.1440876 ... 0.        0.        0.       ]\n",
      " ...\n",
      " [0.        0.        0.        ... 2.1036448 0.        0.       ]\n",
      " [0.        0.        0.        ... 0.        2.2101295 0.       ]\n",
      " [0.        0.        0.        ... 0.        0.        2.0058901]]\n"
     ]
    }
   ],
   "source": [
    "for n in [2, 3, 4, 10, 50]:\n",
    "    diag = []\n",
    "    kappa = jax.random.uniform(seed()) * 4 + 1\n",
    "    posmax = random.randint(0, n - 1)\n",
    "    while True:\n",
    "        posmin = random.randint(0, n)\n",
    "        if posmin != posmax:\n",
    "            break\n",
    "    for i in range(n):\n",
    "        if i == posmax:\n",
    "            diag += [kappa]\n",
    "            continue\n",
    "        if i == posmin:\n",
    "            diag += [1.]\n",
    "            continue\n",
    "        diag += [jax.random.uniform(seed()) * (kappa - 1) + 1]\n",
    "    A = np.diag(np.array(diag))"
   ]
  }
 ],
 "metadata": {
  "kernelspec": {
   "display_name": "Python 3",
   "language": "python",
   "name": "python3"
  },
  "language_info": {
   "codemirror_mode": {
    "name": "ipython",
    "version": 3
   },
   "file_extension": ".py",
   "mimetype": "text/x-python",
   "name": "python",
   "nbconvert_exporter": "python",
   "pygments_lexer": "ipython3",
   "version": "3.11.8"
  }
 },
 "nbformat": 4,
 "nbformat_minor": 2
}
