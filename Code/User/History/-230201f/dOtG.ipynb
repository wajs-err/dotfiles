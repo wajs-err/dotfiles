{
 "cells": [
  {
   "cell_type": "code",
   "execution_count": 3,
   "metadata": {},
   "outputs": [],
   "source": [
    "import random\n",
    "\n",
    "import matplotlib.pyplot as plt\n",
    "import jax\n",
    "from jax import numpy as np\n",
    "from jax import scipy as sp"
   ]
  },
  {
   "cell_type": "code",
   "execution_count": 4,
   "metadata": {},
   "outputs": [],
   "source": [
    "def seed():\n",
    "    return jax.random.PRNGKey(random.randint(0, 228))"
   ]
  },
  {
   "cell_type": "code",
   "execution_count": 16,
   "metadata": {},
   "outputs": [
    {
     "ename": "TypeError",
     "evalue": "diag requires ndarray or scalar arguments, got <class 'list'> at position 0.",
     "output_type": "error",
     "traceback": [
      "\u001b[0;31m---------------------------------------------------------------------------\u001b[0m",
      "\u001b[0;31mTypeError\u001b[0m                                 Traceback (most recent call last)",
      "\u001b[1;32m/home/_wajs_err_/study/optimization/hw/9/1.2.ipynb Cell 3\u001b[0m line \u001b[0;36m1\n\u001b[1;32m     <a href='vscode-notebook-cell:/home/_wajs_err_/study/optimization/hw/9/1.2.ipynb#W2sZmlsZQ%3D%3D?line=14'>15</a>\u001b[0m         \u001b[39mcontinue\u001b[39;00m\n\u001b[1;32m     <a href='vscode-notebook-cell:/home/_wajs_err_/study/optimization/hw/9/1.2.ipynb#W2sZmlsZQ%3D%3D?line=15'>16</a>\u001b[0m     diag \u001b[39m+\u001b[39m\u001b[39m=\u001b[39m [jax\u001b[39m.\u001b[39mrandom\u001b[39m.\u001b[39muniform(seed()) \u001b[39m*\u001b[39m (kappa \u001b[39m-\u001b[39m \u001b[39m1\u001b[39m) \u001b[39m+\u001b[39m \u001b[39m1\u001b[39m]\n\u001b[0;32m---> <a href='vscode-notebook-cell:/home/_wajs_err_/study/optimization/hw/9/1.2.ipynb#W2sZmlsZQ%3D%3D?line=16'>17</a>\u001b[0m A \u001b[39m=\u001b[39m np\u001b[39m.\u001b[39;49mdiag(diag)\n",
      "File \u001b[0;32m~/.local/lib/python3.11/site-packages/jax/_src/numpy/lax_numpy.py:3020\u001b[0m, in \u001b[0;36mdiag\u001b[0;34m(v, k)\u001b[0m\n\u001b[1;32m   3018\u001b[0m \u001b[39m@util\u001b[39m\u001b[39m.\u001b[39m_wraps(np\u001b[39m.\u001b[39mdiag, lax_description\u001b[39m=\u001b[39m_ARRAY_VIEW_DOC)\n\u001b[1;32m   3019\u001b[0m \u001b[39mdef\u001b[39;00m \u001b[39mdiag\u001b[39m(v: ArrayLike, k: \u001b[39mint\u001b[39m \u001b[39m=\u001b[39m \u001b[39m0\u001b[39m) \u001b[39m-\u001b[39m\u001b[39m>\u001b[39m Array:\n\u001b[0;32m-> 3020\u001b[0m   \u001b[39mreturn\u001b[39;00m _diag(v, operator\u001b[39m.\u001b[39;49mindex(k))\n",
      "    \u001b[0;31m[... skipping hidden 12 frame]\u001b[0m\n",
      "File \u001b[0;32m~/.local/lib/python3.11/site-packages/jax/_src/numpy/lax_numpy.py:3024\u001b[0m, in \u001b[0;36m_diag\u001b[0;34m(v, k)\u001b[0m\n\u001b[1;32m   3022\u001b[0m \u001b[39m@partial\u001b[39m(jit, static_argnames\u001b[39m=\u001b[39m(\u001b[39m'\u001b[39m\u001b[39mk\u001b[39m\u001b[39m'\u001b[39m,))\n\u001b[1;32m   3023\u001b[0m \u001b[39mdef\u001b[39;00m \u001b[39m_diag\u001b[39m(v, k):\n\u001b[0;32m-> 3024\u001b[0m   util\u001b[39m.\u001b[39;49mcheck_arraylike(\u001b[39m\"\u001b[39;49m\u001b[39mdiag\u001b[39;49m\u001b[39m\"\u001b[39;49m, v)\n\u001b[1;32m   3025\u001b[0m   v_shape \u001b[39m=\u001b[39m shape(v)\n\u001b[1;32m   3026\u001b[0m   \u001b[39mif\u001b[39;00m \u001b[39mlen\u001b[39m(v_shape) \u001b[39m==\u001b[39m \u001b[39m1\u001b[39m:\n",
      "File \u001b[0;32m~/.local/lib/python3.11/site-packages/jax/_src/numpy/util.py:335\u001b[0m, in \u001b[0;36mcheck_arraylike\u001b[0;34m(fun_name, emit_warning, stacklevel, *args)\u001b[0m\n\u001b[1;32m    332\u001b[0m   warnings\u001b[39m.\u001b[39mwarn(msg \u001b[39m+\u001b[39m \u001b[39m\"\u001b[39m\u001b[39m In a future JAX release this will be an error.\u001b[39m\u001b[39m\"\u001b[39m,\n\u001b[1;32m    333\u001b[0m                 category\u001b[39m=\u001b[39m\u001b[39mDeprecationWarning\u001b[39;00m, stacklevel\u001b[39m=\u001b[39mstacklevel)\n\u001b[1;32m    334\u001b[0m \u001b[39melse\u001b[39;00m:\n\u001b[0;32m--> 335\u001b[0m   \u001b[39mraise\u001b[39;00m \u001b[39mTypeError\u001b[39;00m(msg\u001b[39m.\u001b[39mformat(fun_name, \u001b[39mtype\u001b[39m(arg), pos))\n",
      "\u001b[0;31mTypeError\u001b[0m: diag requires ndarray or scalar arguments, got <class 'list'> at position 0."
     ]
    }
   ],
   "source": [
    "for n in [2, 3, 4, 10, 50]:\n",
    "    diag = []\n",
    "    kappa = jax.random.uniform(seed()) * 4 + 1\n",
    "    posmax = random.randint(0, n - 1)\n",
    "    while True:\n",
    "        posmin = random.randint(0, n)\n",
    "        if posmin != posmax:\n",
    "            break\n",
    "    for i in range(n):\n",
    "        if i == posmax:\n",
    "            diag += [kappa]\n",
    "            continue\n",
    "        if i == posmin:\n",
    "            diag += [1.]\n",
    "            continue\n",
    "        diag += [jax.random.uniform(seed()) * (kappa - 1) + 1]\n",
    "    A = np.diag(diag)"
   ]
  }
 ],
 "metadata": {
  "kernelspec": {
   "display_name": "Python 3",
   "language": "python",
   "name": "python3"
  },
  "language_info": {
   "codemirror_mode": {
    "name": "ipython",
    "version": 3
   },
   "file_extension": ".py",
   "mimetype": "text/x-python",
   "name": "python",
   "nbconvert_exporter": "python",
   "pygments_lexer": "ipython3",
   "version": "3.11.8"
  }
 },
 "nbformat": 4,
 "nbformat_minor": 2
}
