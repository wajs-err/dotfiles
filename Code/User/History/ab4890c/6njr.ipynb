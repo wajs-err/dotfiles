{
 "cells": [
  {
   "cell_type": "markdown",
   "metadata": {},
   "source": [
    "# Automatic differentiation and jax"
   ]
  },
  {
   "cell_type": "code",
   "execution_count": 27,
   "metadata": {},
   "outputs": [],
   "source": [
    "import jax\n",
    "from jax import numpy as np\n",
    "from jax import scipy as sp"
   ]
  },
  {
   "cell_type": "code",
   "execution_count": 28,
   "metadata": {},
   "outputs": [],
   "source": [
    "seed = jax.random.PRNGKey(228)"
   ]
  },
  {
   "cell_type": "code",
   "execution_count": 173,
   "metadata": {},
   "outputs": [],
   "source": [
    "def compare_differentiation_methods(f, gradf, shape, repeat_times=5):\n",
    "    for i in range(repeat_times):\n",
    "        x = jax.random.uniform(seed, shape=shape)\n",
    "        isclose = np.isclose(gradf(x), jax.grad(f)(x), atol=1e-6, rtol=1e-5).flatten()\n",
    "\n",
    "        print(f\"Iteration {i}: \", end='')\n",
    "        if np.all(isclose == True):\n",
    "            print(\"all components are close\")\n",
    "        else:\n",
    "            print(\"some components differ\")\n",
    "            print(f\"Max componentwise relative error is: {((gradf(x) - jax.grad(f)(x)) / gradf(x)).max()}\")"
   ]
  },
  {
   "cell_type": "markdown",
   "metadata": {},
   "source": [
    "## Task 1"
   ]
  },
  {
   "cell_type": "code",
   "execution_count": 16,
   "metadata": {},
   "outputs": [],
   "source": [
    "def f(x, y):\n",
    "    return np.exp(-(np.sin(x) - np.cos(y))**2)"
   ]
  },
  {
   "cell_type": "code",
   "execution_count": 17,
   "metadata": {},
   "outputs": [],
   "source": [
    "graph = jax.xla_computation(f)(np.ones(1337), np.ones(1337))\n",
    "with open(\"graph.dot\", \"w\") as file:\n",
    "    file.write(graph.as_hlo_dot_graph())"
   ]
  },
  {
   "cell_type": "code",
   "execution_count": 21,
   "metadata": {},
   "outputs": [
    {
     "name": "stdout",
     "output_type": "stream",
     "text": [
      "1336.80s - pydevd: Sending message related to process being replaced timed-out after 5 seconds\n"
     ]
    }
   ],
   "source": [
    "!dot graph.dot -Tpng > graph.png"
   ]
  },
  {
   "cell_type": "markdown",
   "metadata": {},
   "source": [
    "![](graph.png)"
   ]
  },
  {
   "cell_type": "markdown",
   "metadata": {},
   "source": [
    "## Task 2"
   ]
  },
  {
   "cell_type": "markdown",
   "metadata": {},
   "source": [
    "$ f(A) = \\operatorname{tr}(e^A),\\, A \\in \\mathbb{R}^{n \\times n} $\n",
    "\n",
    "$ \\nabla f(A) = \\exp(A^{\\top}) $ from Matrix calculus task 4"
   ]
  },
  {
   "cell_type": "code",
   "execution_count": 165,
   "metadata": {},
   "outputs": [],
   "source": [
    "def f(A):\n",
    "    return np.trace(sp.linalg.expm(A))"
   ]
  },
  {
   "cell_type": "code",
   "execution_count": 166,
   "metadata": {},
   "outputs": [],
   "source": [
    "def gradf(A):\n",
    "    return sp.linalg.expm(A.T)"
   ]
  },
  {
   "cell_type": "code",
   "execution_count": 174,
   "metadata": {},
   "outputs": [
    {
     "name": "stdout",
     "output_type": "stream",
     "text": [
      "Iteration 0: some components differ\n",
      "Max componentwise relative error is: -5.334568049875088e-05\n",
      "Iteration 1: some components differ\n",
      "Max componentwise relative error is: -5.334568049875088e-05\n",
      "Iteration 2: some components differ\n",
      "Max componentwise relative error is: -5.334568049875088e-05\n",
      "Iteration 3: some components differ\n",
      "Max componentwise relative error is: -5.334568049875088e-05\n",
      "Iteration 4: some components differ\n",
      "Max componentwise relative error is: -5.334568049875088e-05\n"
     ]
    }
   ],
   "source": [
    "compare_differentiation_methods(f, gradf, (20, 20))"
   ]
  },
  {
   "cell_type": "markdown",
   "metadata": {},
   "source": [
    "## Task 3"
   ]
  },
  {
   "cell_type": "code",
   "execution_count": null,
   "metadata": {},
   "outputs": [],
   "source": []
  },
  {
   "cell_type": "markdown",
   "metadata": {},
   "source": [
    "## Task 4"
   ]
  },
  {
   "cell_type": "markdown",
   "metadata": {},
   "source": [
    "$ f(x) = -\\log \\det X,\\, X \\in \\mathbb{R}^{n \\times n} $\n",
    "\n",
    "$ df(x) = \\frac{\\det X \\cdot \\langle X^{-\\top},\\, dX \\rangle}{\\det X} = \\langle X^{-\\top},\\, dX \\rangle$\n",
    "\n",
    "$ \\nabla f(x) = X^{-\\top} $"
   ]
  },
  {
   "cell_type": "code",
   "execution_count": 175,
   "metadata": {},
   "outputs": [],
   "source": [
    "def f(X):\n",
    "    return -np.log(np.linalg.det(X))"
   ]
  },
  {
   "cell_type": "code",
   "execution_count": 176,
   "metadata": {},
   "outputs": [],
   "source": [
    "def gradf(X):\n",
    "    return np.linalg.inv(X).T"
   ]
  },
  {
   "cell_type": "code",
   "execution_count": 177,
   "metadata": {},
   "outputs": [
    {
     "name": "stdout",
     "output_type": "stream",
     "text": [
      "Iteration 0: some components differ\n",
      "Max componentwise relative error is: 2.000000476837158\n",
      "Iteration 1: some components differ\n",
      "Max componentwise relative error is: 2.000000476837158\n",
      "Iteration 2: some components differ\n",
      "Max componentwise relative error is: 2.000000476837158\n",
      "Iteration 3: some components differ\n",
      "Max componentwise relative error is: 2.000000476837158\n",
      "Iteration 4: some components differ\n",
      "Max componentwise relative error is: 2.000000476837158\n"
     ]
    }
   ],
   "source": [
    "compare_differentiation_methods(f, gradf, (3, 3))"
   ]
  },
  {
   "cell_type": "markdown",
   "metadata": {},
   "source": [
    "## Task 5"
   ]
  },
  {
   "cell_type": "markdown",
   "metadata": {},
   "source": [
    "$ f(x) = x^{\\top} x x^{\\top} x,\\, x \\in \\mathbb{R}^n $\n",
    "\n",
    "$ f(x) = \\langle x,\\, x \\rangle^2 $\n",
    "\n",
    "$ df(x) = 4 \\cdot \\langle x,\\, x \\rangle \\cdot \\langle x,\\, dx \\rangle = \\big\\langle 4 \\cdot \\langle x,\\, x \\rangle \\cdot x,\\, dx \\big\\rangle $\n",
    "\n",
    "$ \\nabla f(x) = 4 \\cdot \\langle x,\\, x \\rangle \\cdot x $"
   ]
  },
  {
   "cell_type": "code",
   "execution_count": 109,
   "metadata": {},
   "outputs": [],
   "source": [
    "def f(x):\n",
    "    return (x.T @ x) * (x.T @ x)"
   ]
  },
  {
   "cell_type": "code",
   "execution_count": 110,
   "metadata": {},
   "outputs": [],
   "source": [
    "def gradf(x):\n",
    "    return 4 * (x.T @ x) * x"
   ]
  },
  {
   "cell_type": "code",
   "execution_count": 130,
   "metadata": {},
   "outputs": [
    {
     "ename": "ValueError",
     "evalue": "Argument to inv must have shape [..., n, n], got (100,).",
     "output_type": "error",
     "traceback": [
      "\u001b[0;31m---------------------------------------------------------------------------\u001b[0m",
      "\u001b[0;31mValueError\u001b[0m                                Traceback (most recent call last)",
      "Cell \u001b[0;32mIn[130], line 1\u001b[0m\n\u001b[0;32m----> 1\u001b[0m compare_differentiation_methods(f, gradf, (\u001b[39m100\u001b[39;49m,))\n",
      "Cell \u001b[0;32mIn[127], line 4\u001b[0m, in \u001b[0;36mcompare_differentiation_methods\u001b[0;34m(f, gradf, shape, repeat_times)\u001b[0m\n\u001b[1;32m      2\u001b[0m \u001b[39mfor\u001b[39;00m i \u001b[39min\u001b[39;00m \u001b[39mrange\u001b[39m(repeat_times):\n\u001b[1;32m      3\u001b[0m     x \u001b[39m=\u001b[39m jax\u001b[39m.\u001b[39mrandom\u001b[39m.\u001b[39muniform(seed, shape\u001b[39m=\u001b[39mshape)\n\u001b[0;32m----> 4\u001b[0m     isclose \u001b[39m=\u001b[39m np\u001b[39m.\u001b[39misclose(gradf(x), jax\u001b[39m.\u001b[39mgrad(f)(x), atol\u001b[39m=\u001b[39m\u001b[39m1e-6\u001b[39m, rtol\u001b[39m=\u001b[39m\u001b[39m1e-4\u001b[39m)\n\u001b[1;32m      5\u001b[0m     \u001b[39mif\u001b[39;00m \u001b[39mlen\u001b[39m(shape) \u001b[39m>\u001b[39m \u001b[39m1\u001b[39m:\n\u001b[1;32m      6\u001b[0m         isclose \u001b[39m=\u001b[39m isclose\u001b[39m.\u001b[39mflatten()\n",
      "Cell \u001b[0;32mIn[123], line 2\u001b[0m, in \u001b[0;36mgradf\u001b[0;34m(X)\u001b[0m\n\u001b[1;32m      1\u001b[0m \u001b[39mdef\u001b[39;00m \u001b[39mgradf\u001b[39m(X):\n\u001b[0;32m----> 2\u001b[0m     \u001b[39mreturn\u001b[39;00m np\u001b[39m.\u001b[39;49mlinalg\u001b[39m.\u001b[39;49minv(X)\u001b[39m.\u001b[39mT\n",
      "    \u001b[0;31m[... skipping hidden 12 frame]\u001b[0m\n",
      "File \u001b[0;32m~/.local/lib/python3.11/site-packages/jax/_src/numpy/linalg.py:475\u001b[0m, in \u001b[0;36minv\u001b[0;34m(a)\u001b[0m\n\u001b[1;32m    473\u001b[0m arr \u001b[39m=\u001b[39m jnp\u001b[39m.\u001b[39masarray(a)\n\u001b[1;32m    474\u001b[0m \u001b[39mif\u001b[39;00m arr\u001b[39m.\u001b[39mndim \u001b[39m<\u001b[39m \u001b[39m2\u001b[39m \u001b[39mor\u001b[39;00m arr\u001b[39m.\u001b[39mshape[\u001b[39m-\u001b[39m\u001b[39m1\u001b[39m] \u001b[39m!=\u001b[39m arr\u001b[39m.\u001b[39mshape[\u001b[39m-\u001b[39m\u001b[39m2\u001b[39m]:\n\u001b[0;32m--> 475\u001b[0m   \u001b[39mraise\u001b[39;00m \u001b[39mValueError\u001b[39;00m(\n\u001b[1;32m    476\u001b[0m     \u001b[39mf\u001b[39m\u001b[39m\"\u001b[39m\u001b[39mArgument to inv must have shape [..., n, n], got \u001b[39m\u001b[39m{\u001b[39;00marr\u001b[39m.\u001b[39mshape\u001b[39m}\u001b[39;00m\u001b[39m.\u001b[39m\u001b[39m\"\u001b[39m)\n\u001b[1;32m    477\u001b[0m \u001b[39mreturn\u001b[39;00m solve(\n\u001b[1;32m    478\u001b[0m   arr, lax\u001b[39m.\u001b[39mbroadcast(jnp\u001b[39m.\u001b[39meye(arr\u001b[39m.\u001b[39mshape[\u001b[39m-\u001b[39m\u001b[39m1\u001b[39m], dtype\u001b[39m=\u001b[39marr\u001b[39m.\u001b[39mdtype), arr\u001b[39m.\u001b[39mshape[:\u001b[39m-\u001b[39m\u001b[39m2\u001b[39m]))\n",
      "\u001b[0;31mValueError\u001b[0m: Argument to inv must have shape [..., n, n], got (100,)."
     ]
    }
   ],
   "source": [
    "compare_differentiation_methods(f, gradf, (100,))"
   ]
  }
 ],
 "metadata": {
  "kernelspec": {
   "display_name": "Python 3",
   "language": "python",
   "name": "python3"
  },
  "language_info": {
   "codemirror_mode": {
    "name": "ipython",
    "version": 3
   },
   "file_extension": ".py",
   "mimetype": "text/x-python",
   "name": "python",
   "nbconvert_exporter": "python",
   "pygments_lexer": "ipython3",
   "version": "3.11.5"
  },
  "orig_nbformat": 4
 },
 "nbformat": 4,
 "nbformat_minor": 2
}
