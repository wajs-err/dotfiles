{
 "cells": [
  {
   "cell_type": "code",
   "execution_count": 2,
   "metadata": {},
   "outputs": [],
   "source": [
    "import jax\n",
    "from jax import numpy as np\n",
    "from jax import scipy as sp"
   ]
  },
  {
   "cell_type": "code",
   "execution_count": 17,
   "metadata": {},
   "outputs": [],
   "source": [
    "A = np.array([[1., 0.],\n",
    "              [-1., 1.]])\n",
    "n = 2\n",
    "y = np.array([3., 2.])\n",
    "Sigma = np.array([[0.5, 0.],\n",
    "                  [0., 1.]])"
   ]
  },
  {
   "cell_type": "code",
   "execution_count": 13,
   "metadata": {},
   "outputs": [],
   "source": [
    "def f(x):\n",
    "    return np.linalg.norm(Sigma @ x, ord=np.inf) - 1 + np.linalg.norm(sp.linalg.sqrtm(A) @ (x - y), ord=2) - 1"
   ]
  },
  {
   "cell_type": "code",
   "execution_count": 29,
   "metadata": {},
   "outputs": [],
   "source": [
    "x = np.array([2., 1.])\n",
    "alpha = 0.01"
   ]
  },
  {
   "cell_type": "code",
   "execution_count": 30,
   "metadata": {},
   "outputs": [
    {
     "name": "stdout",
     "output_type": "stream",
     "text": [
      "[2.0930572 1.0447547] 0.08302379\n"
     ]
    }
   ],
   "source": [
    "minf = 10000000\n",
    "minx = x\n",
    "for i in range(30):\n",
    "    x = x - alpha * jax.grad(f)(x)\n",
    "    if f(x) < minf:\n",
    "        minf = f(x)\n",
    "        minx = x\n",
    "\n",
    "print(minx, minf)"
   ]
  }
 ],
 "metadata": {
  "kernelspec": {
   "display_name": "Python 3",
   "language": "python",
   "name": "python3"
  },
  "language_info": {
   "codemirror_mode": {
    "name": "ipython",
    "version": 3
   },
   "file_extension": ".py",
   "mimetype": "text/x-python",
   "name": "python",
   "nbconvert_exporter": "python",
   "pygments_lexer": "ipython3",
   "version": "3.11.8"
  }
 },
 "nbformat": 4,
 "nbformat_minor": 2
}
