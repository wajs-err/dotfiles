{
 "cells": [
  {
   "cell_type": "code",
   "execution_count": 2,
   "metadata": {},
   "outputs": [],
   "source": [
    "import jax\n",
    "from jax import numpy as np\n",
    "from jax import scipy as sp"
   ]
  },
  {
   "cell_type": "code",
   "execution_count": 17,
   "metadata": {},
   "outputs": [],
   "source": [
    "A = np.array([[1., 0.],\n",
    "              [-1., 1.]])\n",
    "n = 2\n",
    "y = np.array([3., 2.])\n",
    "Sigma = np.array([[0.5, 0.],\n",
    "                  [0., 1.]])"
   ]
  },
  {
   "cell_type": "code",
   "execution_count": 13,
   "metadata": {},
   "outputs": [],
   "source": [
    "def f(x):\n",
    "    return np.linalg.norm(Sigma @ x, ord=np.inf) - 1 + np.linalg.norm(sp.linalg.sqrtm(A) @ (x - y), ord=2) - 1"
   ]
  },
  {
   "cell_type": "code",
   "execution_count": 18,
   "metadata": {},
   "outputs": [],
   "source": [
    "x = np.array([2., 1.])\n",
    "alpha = 0.1"
   ]
  },
  {
   "cell_type": "code",
   "execution_count": 20,
   "metadata": {},
   "outputs": [
    {
     "name": "stdout",
     "output_type": "stream",
     "text": [
      "[2.3317797 1.117492 ] 0.030331016\n",
      "[2.3273609 1.1809316] 0.008874655\n",
      "[2.3794496 1.1392386] 0.019253492\n",
      "[2.3710766 1.2055999] -0.0032708049\n",
      "[2.420241  1.1662649] 0.0050415993\n",
      "[2.4089658 1.2346812] -0.01031214\n",
      "[2.4561353 1.1969061] -0.011720896\n",
      "[2.4427414 1.2667763] -0.014062226\n",
      "[2.488623  1.2299881] -0.03040582\n",
      "[2.4736733 1.3009017] -0.015681148\n"
     ]
    }
   ],
   "source": [
    "for i in range(10):\n",
    "    x = x - alpha * jax.grad(f)(x)\n",
    "    print(x, f(x))"
   ]
  }
 ],
 "metadata": {
  "kernelspec": {
   "display_name": "Python 3",
   "language": "python",
   "name": "python3"
  },
  "language_info": {
   "codemirror_mode": {
    "name": "ipython",
    "version": 3
   },
   "file_extension": ".py",
   "mimetype": "text/x-python",
   "name": "python",
   "nbconvert_exporter": "python",
   "pygments_lexer": "ipython3",
   "version": "3.11.8"
  }
 },
 "nbformat": 4,
 "nbformat_minor": 2
}
