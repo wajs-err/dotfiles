{
 "cells": [
  {
   "cell_type": "code",
   "execution_count": 2,
   "metadata": {},
   "outputs": [],
   "source": [
    "import jax\n",
    "from jax import numpy as np\n",
    "from jax import scipy as sp"
   ]
  },
  {
   "cell_type": "code",
   "execution_count": 17,
   "metadata": {},
   "outputs": [],
   "source": [
    "A = np.array([[1., 0.],\n",
    "              [-1., 1.]])\n",
    "n = 2\n",
    "y = np.array([3., 2.])\n",
    "Sigma = np.array([[0.5, 0.],\n",
    "                  [0., 1.]])"
   ]
  },
  {
   "cell_type": "code",
   "execution_count": 13,
   "metadata": {},
   "outputs": [],
   "source": [
    "def f(x):\n",
    "    return np.linalg.norm(Sigma @ x, ord=np.inf) - 1 + np.linalg.norm(sp.linalg.sqrtm(A) @ (x - y), ord=2) - 1"
   ]
  },
  {
   "cell_type": "code",
   "execution_count": 23,
   "metadata": {},
   "outputs": [],
   "source": [
    "x = np.array([2., 1.])\n",
    "alpha = 0.01"
   ]
  },
  {
   "cell_type": "code",
   "execution_count": 24,
   "metadata": {},
   "outputs": [
    {
     "name": "stdout",
     "output_type": "stream",
     "text": [
      "[2.004208   0.99947214] 0.117559195\n",
      "[2.0058823 1.0039783] 0.11628854\n",
      "[2.0125768  0.99846405] 0.11664426\n",
      "[2.0141828 1.0030376] 0.11429775\n",
      "[2.0158103 1.00759  ] 0.11196339\n",
      "[2.0174587 1.0121217] 0.113033414\n",
      "[2.024128  1.0066326] 0.11105764\n",
      "[2.0257082 1.0112317] 0.108695984\n",
      "[2.0273101 1.0158092] 0.108501315\n",
      "[2.0339339 1.0103654] 0.10780561\n",
      "[2.0354679 1.0150095] 0.105416775\n",
      "[2.0370247 1.0196315] 0.10416067\n",
      "[2.043604  1.0142314] 0.10453987\n",
      "[2.045093  1.0189192] 0.102124095\n",
      "[2.0466058 1.0235842] 0.10000384\n",
      "[2.0531416 1.0182266] 0.10125899\n",
      "[2.0545871 1.0229567] 0.098816395\n",
      "[2.0560567 1.0276635] 0.0963887\n",
      "[2.0575504 1.032347 ] 0.09754753\n",
      "[2.0640678 1.0270073] 0.09552848\n",
      "[2.065494 1.031756] 0.093073964\n",
      "[2.066945  1.0364809] 0.09364319\n",
      "[2.0734205 1.031182 ] 0.092223525\n",
      "[2.0748043 1.0359714] 0.0897423\n",
      "[2.0762136 1.0407363] 0.08990681\n",
      "[2.0826483 1.0354769] 0.08890021\n",
      "[2.0839908 1.0403056] 0.08639264\n",
      "[2.0853598 1.0451093] 0.08633125\n",
      "[2.0917547 1.039888 ] 0.08555746\n",
      "[2.0930572 1.0447547] 0.08302379\n"
     ]
    }
   ],
   "source": [
    "for i in range(30):\n",
    "    x = x - alpha * jax.grad(f)(x)\n",
    "    print(x, f(x))"
   ]
  }
 ],
 "metadata": {
  "kernelspec": {
   "display_name": "Python 3",
   "language": "python",
   "name": "python3"
  },
  "language_info": {
   "codemirror_mode": {
    "name": "ipython",
    "version": 3
   },
   "file_extension": ".py",
   "mimetype": "text/x-python",
   "name": "python",
   "nbconvert_exporter": "python",
   "pygments_lexer": "ipython3",
   "version": "3.11.8"
  }
 },
 "nbformat": 4,
 "nbformat_minor": 2
}
