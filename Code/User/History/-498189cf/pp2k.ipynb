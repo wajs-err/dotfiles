{
 "cells": [
  {
   "cell_type": "code",
   "execution_count": null,
   "metadata": {},
   "outputs": [],
   "source": [
    "import numpy as np\n",
    "import matplotlib.pyplot as plt\n",
    "from scipy.optimize import minimize_scalar\n",
    "from scipy.optimize import bracket\n",
    "np.random.seed(214)"
   ]
  },
  {
   "cell_type": "code",
   "execution_count": null,
   "metadata": {},
   "outputs": [],
   "source": [
    "func_name = 'quadratic'"
   ]
  },
  {
   "cell_type": "code",
   "execution_count": null,
   "metadata": {},
   "outputs": [],
   "source": [
    "if func_name == 'rosenbrock':\n",
    "    def rosenbrock_function(x):\n",
    "        return 10 * (x[1] - x[0]**2)**2 + (x[0] - 1)**2\n",
    "\n",
    "    def grad_rosenbrock(x):\n",
    "        return np.array([40 * x[0]**3 + (2 - 40 * x[1]) * x[0] - 2, 20 * (x[1] - x[0]**2)]) \n",
    "\n",
    "    f = rosenbrock_function\n",
    "    gradf = grad_rosenbrock\n",
    "    max_iter = 1000\n",
    "    c_1 = 1e-4 \n",
    "    c_2 = 0.99\n",
    "    rho = 0.75\n",
    "    epsilon = np.sqrt(np.finfo(float).eps)\n",
    "    alpha = 0.06\n",
    "    beta = 0.1\n",
    "    fixed_step = 1e-3\n",
    "    optimal_point = np.array([1.0, 1.0])\n",
    "elif func_name == 'quadratic':\n",
    "    cond_number = 30\n",
    "    M = np.random.randn(2, 2)\n",
    "    M = np.dot(M, M.T)\n",
    "    U, s, V = np.linalg.svd(M)\n",
    "    s = np.linspace(cond_number, 1, len(s))\n",
    "    A = np.dot(U, np.dot(np.diag(s), V))\n",
    "    b = np.random.randn(2)\n",
    "\n",
    "    def quadratic_function(x):\n",
    "        return 0.5 * np.dot(x.T, np.dot(A, x)) - np.dot(b.T, x)\n",
    "\n",
    "    def grad_quadratic(x):\n",
    "        return np.dot(A, x) - b\n",
    "\n",
    "    f = quadratic_function\n",
    "    gradf = grad_quadratic\n",
    "    max_iter = 100\n",
    "    c_1 = 1e-4\n",
    "    c_2 = 0.9\n",
    "    rho = 0.75\n",
    "    epsilon = np.sqrt(np.finfo(float).eps)\n",
    "    alpha = 0.3\n",
    "    beta = 0.8\n",
    "    fixed_step = 5e-2\n",
    "    optimal_point = np.linalg.solve(A, b)"
   ]
  },
  {
   "cell_type": "code",
   "execution_count": null,
   "metadata": {},
   "outputs": [],
   "source": [
    "def gradient_descent(start_point, stepsize_func, max_iter=100):\n",
    "    x = start_point.copy()\n",
    "    funcalls = 1\n",
    "    trajectory = [x.copy()]\n",
    "    values = [f(x)]\n",
    "    funcalls_res = [funcalls]\n",
    "    for _ in range(max_iter):\n",
    "        grad = gradf(x)\n",
    "        step_size, funcalls_new = stepsize_func(x, grad)\n",
    "        funcalls += funcalls_new + 1\n",
    "        x -= step_size * grad\n",
    "        trajectory.append(x.copy())\n",
    "        values.append(f(x))\n",
    "        funcalls_res.append(funcalls)\n",
    "    return np.array(trajectory), np.array(values), funcalls_res"
   ]
  }
 ],
 "metadata": {
  "language_info": {
   "name": "python"
  }
 },
 "nbformat": 4,
 "nbformat_minor": 2
}
