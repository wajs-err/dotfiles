{
 "cells": [
  {
   "cell_type": "code",
   "execution_count": 1,
   "metadata": {},
   "outputs": [],
   "source": [
    "import numpy as np\n",
    "import matplotlib.pyplot as plt\n",
    "import matplotlib.animation as animation\n",
    "from IPython.display import HTML"
   ]
  },
  {
   "cell_type": "code",
   "execution_count": 2,
   "metadata": {},
   "outputs": [
    {
     "ename": "TypeError",
     "evalue": "float() argument must be a string or a real number, not 'ellipsis'",
     "output_type": "error",
     "traceback": [
      "\u001b[0;31m---------------------------------------------------------------------------\u001b[0m",
      "\u001b[0;31mTypeError\u001b[0m                                 Traceback (most recent call last)",
      "\u001b[1;32m/home/_wajs_err_/study/optimization/hw/9/3.1.ipynb Cell 2\u001b[0m line \u001b[0;36m2\n\u001b[1;32m     <a href='vscode-notebook-cell:/home/_wajs_err_/study/optimization/hw/9/3.1.ipynb#W1sZmlsZQ%3D%3D?line=22'>23</a>\u001b[0m num_iterations \u001b[39m=\u001b[39m \u001b[39m30\u001b[39m\n\u001b[1;32m     <a href='vscode-notebook-cell:/home/_wajs_err_/study/optimization/hw/9/3.1.ipynb#W1sZmlsZQ%3D%3D?line=24'>25</a>\u001b[0m \u001b[39m# Generate the trajectory of the method\u001b[39;00m\n\u001b[0;32m---> <a href='vscode-notebook-cell:/home/_wajs_err_/study/optimization/hw/9/3.1.ipynb#W1sZmlsZQ%3D%3D?line=25'>26</a>\u001b[0m trajectory \u001b[39m=\u001b[39m heavy_ball_method(alpha_star, beta_star, x0, num_iterations)\n\u001b[1;32m     <a href='vscode-notebook-cell:/home/_wajs_err_/study/optimization/hw/9/3.1.ipynb#W1sZmlsZQ%3D%3D?line=27'>28</a>\u001b[0m \u001b[39m# Setup the figure and axes for the animation\u001b[39;00m\n\u001b[1;32m     <a href='vscode-notebook-cell:/home/_wajs_err_/study/optimization/hw/9/3.1.ipynb#W1sZmlsZQ%3D%3D?line=28'>29</a>\u001b[0m fig, (ax1, ax2) \u001b[39m=\u001b[39m plt\u001b[39m.\u001b[39msubplots(\u001b[39m1\u001b[39m, \u001b[39m2\u001b[39m, figsize\u001b[39m=\u001b[39m(\u001b[39m7\u001b[39m, \u001b[39m3.5\u001b[39m))\n",
      "\u001b[1;32m/home/_wajs_err_/study/optimization/hw/9/3.1.ipynb Cell 2\u001b[0m line \u001b[0;36m1\n\u001b[1;32m      <a href='vscode-notebook-cell:/home/_wajs_err_/study/optimization/hw/9/3.1.ipynb#W1sZmlsZQ%3D%3D?line=7'>8</a>\u001b[0m x_curr \u001b[39m=\u001b[39m x0  \u001b[39m# Initialize x[1] same as x[0] to start the algorithm\u001b[39;00m\n\u001b[1;32m      <a href='vscode-notebook-cell:/home/_wajs_err_/study/optimization/hw/9/3.1.ipynb#W1sZmlsZQ%3D%3D?line=8'>9</a>\u001b[0m \u001b[39mfor\u001b[39;00m i \u001b[39min\u001b[39;00m \u001b[39mrange\u001b[39m(num_iterations):\n\u001b[0;32m---> <a href='vscode-notebook-cell:/home/_wajs_err_/study/optimization/hw/9/3.1.ipynb#W1sZmlsZQ%3D%3D?line=9'>10</a>\u001b[0m     x[i] \u001b[39m=\u001b[39m x_curr\n\u001b[1;32m     <a href='vscode-notebook-cell:/home/_wajs_err_/study/optimization/hw/9/3.1.ipynb#W1sZmlsZQ%3D%3D?line=10'>11</a>\u001b[0m     x_new \u001b[39m=\u001b[39m x_curr \u001b[39m-\u001b[39m alpha \u001b[39m*\u001b[39m grad_f(x_curr) \u001b[39m+\u001b[39m beta \u001b[39m*\u001b[39m (x_curr \u001b[39m-\u001b[39m x_prev)\n\u001b[1;32m     <a href='vscode-notebook-cell:/home/_wajs_err_/study/optimization/hw/9/3.1.ipynb#W1sZmlsZQ%3D%3D?line=11'>12</a>\u001b[0m     x_prev \u001b[39m=\u001b[39m x_curr\n",
      "\u001b[0;31mTypeError\u001b[0m: float() argument must be a string or a real number, not 'ellipsis'"
     ]
    }
   ],
   "source": [
    "def grad_f(x):\n",
    "    ...\n",
    "\n",
    "def heavy_ball_method(alpha, beta, x0, num_iterations):\n",
    "    x = np.zeros(num_iterations + 1)\n",
    "    x_prev = x0\n",
    "    x_curr = x0\n",
    "    for i in range(num_iterations):\n",
    "        x[i] = x_curr\n",
    "        x_new = x_curr - alpha * grad_f(x_curr) + beta * (x_curr - x_prev)\n",
    "        x_prev = x_curr\n",
    "        x_curr = x_new\n",
    "    x[num_iterations] = x_curr\n",
    "    return x\n",
    "\n",
    "L = ...\n",
    "mu = ...\n",
    "alpha_star = ...\n",
    "beta_star = ...\n",
    "x0 = ...\n",
    "num_iterations = 30\n",
    "\n",
    "trajectory = heavy_ball_method(alpha_star, beta_star, x0, num_iterations)\n",
    "\n",
    "fig, (ax1, ax2) = plt.subplots(1, 2, figsize=(7, 3.5))\n",
    "fig.suptitle(\"Heavy ball method with optimal hyperparameters α* β*\")\n",
    "\n",
    "def update(i):\n",
    "    ax1.clear()\n",
    "    ax2.clear()\n",
    "\n",
    "    x_vals = np.linspace(-4, 4, 100)\n",
    "    f_vals = np.piecewise(x_vals, [x_vals < 1, (x_vals >= 1) & (x_vals < 2), x_vals >= 2],\n",
    "                        [lambda x: 12.5 * x**2, lambda x: .5 * x**2 + 24 * x - 12, lambda x: 12.5 * x**2 - 24 * x + 36])\n",
    "    ax1.plot(x_vals, f_vals, 'b-')\n",
    "    ax1.plot(trajectory[:i], [12.5 * x**2 if x < 1 else .5 * x**2 + 24 * x - 12 if x < 2 else 12.5 * x**2 - 24 * x + 36 for x in trajectory[:i]], 'ro-')\n",
    "\n",
    "    ax1.axvline(x=1, color='navy', linestyle='--')\n",
    "    ax1.axvline(x=2, color='navy', linestyle='--')\n",
    "\n",
    "    f_trajectory = [None for x in trajectory]\n",
    "    f_trajectory[:i] = [12.5 * x**2 if x < 1 else .5 * x**2 + 24 * x - 12 if x < 2 else 12.5 * x**2 - 24 * x + 36 for x in trajectory[:i]]\n",
    "    ax2.plot(range(len(trajectory)), f_trajectory, 'ro-')\n",
    "    ax2.set_xlim(0, len(trajectory))\n",
    "    ax2.set_ylim(min(f_vals), max(f_vals))\n",
    "\n",
    "    f_1 = 12.5 * 1.0**2\n",
    "    f_2 = .5 * 2.**2 + 24 * 2. - 12\n",
    "    ax2.axhline(y=f_1, color='navy', linestyle='--')\n",
    "    ax2.axhline(y=f_2, color='navy', linestyle='--')\n",
    "\n",
    "    ax1.set_xlabel(\"x\")\n",
    "    ax1.set_ylabel(\"f(x)\")\n",
    "    ax1.grid(linestyle=\":\")\n",
    "\n",
    "    ax2.set_xlabel(\"Iteration\")\n",
    "    ax2.set_ylabel(\"f(x)\")\n",
    "    ax2.grid(linestyle=\":\")\n",
    "\n",
    "    plt.tight_layout()\n",
    "\n",
    "ani = animation.FuncAnimation(fig, update, frames=num_iterations, repeat=False, interval=100)\n",
    "HTML(ani.to_jshtml())"
   ]
  }
 ],
 "metadata": {
  "kernelspec": {
   "display_name": "Python 3",
   "language": "python",
   "name": "python3"
  },
  "language_info": {
   "codemirror_mode": {
    "name": "ipython",
    "version": 3
   },
   "file_extension": ".py",
   "mimetype": "text/x-python",
   "name": "python",
   "nbconvert_exporter": "python",
   "pygments_lexer": "ipython3",
   "version": "3.11.8"
  }
 },
 "nbformat": 4,
 "nbformat_minor": 2
}
