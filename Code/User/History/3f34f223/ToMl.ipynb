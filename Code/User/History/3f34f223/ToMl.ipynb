{
 "cells": [
  {
   "cell_type": "code",
   "execution_count": null,
   "metadata": {},
   "outputs": [],
   "source": [
    "import numpy as np\n",
    "import matplotlib.pyplot as plt\n",
    "from scipy.optimize import minimize_scalar\n",
    "from scipy.optimize import bracket\n",
    "np.random.seed(214)"
   ]
  },
  {
   "cell_type": "code",
   "execution_count": null,
   "metadata": {},
   "outputs": [],
   "source": [
    "cond_number = 30\n",
    "M = np.random.randn(2, 2)\n",
    "M = np.dot(M, M.T)\n",
    "U, s, V = np.linalg.svd(M)\n",
    "s = np.linspace(cond_number, 1, len(s))\n",
    "A = np.dot(U, np.dot(np.diag(s), V))\n",
    "b = np.random.randn(2)"
   ]
  },
  {
   "cell_type": "code",
   "execution_count": null,
   "metadata": {},
   "outputs": [],
   "source": [
    "def rosenbrock_function(x):\n",
    "    return 10 * (x[1] - x[0]**2)**2 + (x[0] - 1)**2\n",
    "\n",
    "def grad_rosenbrock(x):\n",
    "    return np.array([40 * x[0]**3 + (2 - 40 * x[1]) * x[0] - 2, 20 * (x[1] - x[0]**2)]) \n",
    "\n",
    "def quadratic_function(x):\n",
    "    return 0.5 * np.dot(x.T, np.dot(A, x)) - np.dot(b.T, x)\n",
    "\n",
    "def grad_quadratic(x):\n",
    "    return np.dot(A, x) - b"
   ]
  },
  {
   "cell_type": "code",
   "execution_count": null,
   "metadata": {},
   "outputs": [],
   "source": [
    "func_name = 'rosenbrock'"
   ]
  },
  {
   "cell_type": "code",
   "execution_count": null,
   "metadata": {},
   "outputs": [],
   "source": [
    "if func_name == 'rosenbrock'\n",
    "    f = rosenbrock_function\n",
    "    gradf = grad_rosenbrock\n",
    "    alpha_0 = 0.06\n",
    "    beta_0 = 0.1\n",
    "    c_1 = 1e-4 \n",
    "    c_2 = 0.99\n",
    "elif func_name == 'quadratic':\n",
    "    f = quadratic_function\n",
    "    gradf = grad_quadratic\n",
    "    alpha_0 = 0.3\n",
    "    beta_0 = 0.8\n",
    "    c_1 = 1e-4\n",
    "    c_2 = 0.9"
   ]
  },
  {
   "cell_type": "code",
   "execution_count": null,
   "metadata": {},
   "outputs": [],
   "source": [
    "rho = 0.75\n",
    "epsilon = 1e-2"
   ]
  },
  {
   "cell_type": "code",
   "execution_count": null,
   "metadata": {},
   "outputs": [],
   "source": [
    "def gradient_descent(start_point, stepsize_func, max_iter=1000):\n",
    "    x = start_point.copy()\n",
    "    trajectory = [x.copy()]\n",
    "    for _ in range(max_iter):\n",
    "        grad = gradf(x)\n",
    "        step_size = stepsize_func(x, grad)\n",
    "        x -= step_size * grad\n",
    "        trajectory.append(x.copy())\n",
    "    return np.array(trajectory)"
   ]
  },
  {
   "cell_type": "code",
   "execution_count": null,
   "metadata": {},
   "outputs": [],
   "source": [
    "\n",
    "def backtracking_line_search(x, grad, method='default', alpha=alpha_0, beta=beta_0):\n",
    "    def objective(t):\n",
    "        return rosenbrock_function(x - t * grad)\n",
    "\n",
    "    def sufficient_decrease_condition():\n",
    "        return objective(alpha) <= rosenbrock_function(x) - c_1 * alpha * grad.T @ grad \n",
    "\n",
    "    def curvature_condition():\n",
    "        return grad_rosenbrock(x - alpha * grad).T @ grad <= c_2 * grad.T @ grad \n",
    "   \n",
    "    def wolfe_condition():\n",
    "        return sufficient_decrease_condition() and curvature_condition()\n",
    "\n",
    "    def goldstein_condition():\n",
    "        return objective(alpha) >= rosenbrock_function(x) - rho * alpha * grad.T @ grad \\\n",
    "           and objective(alpha) <= rosenbrock_function(x) - (1 - rho) * alpha * grad.T @ grad\n",
    "\n",
    "    def dichotomy():\n",
    "        a, _, b, _, _, _, _ = bracket(objective)\n",
    "        c = (a + b) / 2\n",
    "        while abs(b - a) > epsilon:\n",
    "            y = (a + c) / 2\n",
    "            if objective(y) <= objective(c):\n",
    "                b, c = c, y \n",
    "            else:\n",
    "                z = (b + c) / 2\n",
    "                if objective(c) <= objective(z):\n",
    "                    a, b = y, z\n",
    "                else:\n",
    "                    a, c = c, z\n",
    "        return c\n",
    "\n",
    "    if method == 'default':\n",
    "        res = minimize_scalar(objective, method='golden')\n",
    "        return res.x\n",
    "    elif method == 'dichotomy':\n",
    "        return dichotomy() \n",
    "    elif method == 'wolfe':\n",
    "        condition = wolfe_condition\n",
    "    elif method == 'curvature':\n",
    "        condition = curvature_condition\n",
    "    elif method == 'goldstein':\n",
    "        condition = goldstein_condition\n",
    "    elif method == 'sufficient_decrease':\n",
    "        condition = sufficient_decrease_condition\n",
    "    else:\n",
    "        raise Exception('unsupported method')\n",
    "\n",
    "    while not condition():\n",
    "        alpha *= beta\n",
    "    return alpha"
   ]
  }
 ],
 "metadata": {
  "language_info": {
   "name": "python"
  }
 },
 "nbformat": 4,
 "nbformat_minor": 2
}
