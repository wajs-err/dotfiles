{
 "cells": [
  {
   "cell_type": "code",
   "execution_count": null,
   "metadata": {},
   "outputs": [],
   "source": [
    "import numpy as np\n",
    "import matplotlib.pyplot as plt\n",
    "from scipy.optimize import minimize_scalar\n",
    "from scipy.optimize import bracket\n",
    "np.random.seed(214)"
   ]
  },
  {
   "cell_type": "code",
   "execution_count": null,
   "metadata": {},
   "outputs": [],
   "source": [
    "cond_number = 30\n",
    "M = np.random.randn(2, 2)\n",
    "M = np.dot(M, M.T)\n",
    "U, s, V = np.linalg.svd(M)\n",
    "s = np.linspace(cond_number, 1, len(s))\n",
    "A = np.dot(U, np.dot(np.diag(s), V))\n",
    "b = np.random.randn(2)"
   ]
  }
 ],
 "metadata": {
  "language_info": {
   "name": "python"
  }
 },
 "nbformat": 4,
 "nbformat_minor": 2
}
