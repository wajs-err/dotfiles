{
 "cells": [
  {
   "cell_type": "code",
   "execution_count": null,
   "metadata": {},
   "outputs": [],
   "source": [
    "import numpy as np\n",
    "import matplotlib.pyplot as plt\n",
    "from scipy.optimize import minimize_scalar\n",
    "from scipy.optimize import bracket\n",
    "np.random.seed(214)"
   ]
  },
  {
   "cell_type": "code",
   "execution_count": null,
   "metadata": {},
   "outputs": [],
   "source": [
    "cond_number = 30\n",
    "M = np.random.randn(2, 2)\n",
    "M = np.dot(M, M.T)\n",
    "U, s, V = np.linalg.svd(M)\n",
    "s = np.linspace(cond_number, 1, len(s))\n",
    "A = np.dot(U, np.dot(np.diag(s), V))\n",
    "b = np.random.randn(2)"
   ]
  },
  {
   "cell_type": "code",
   "execution_count": null,
   "metadata": {},
   "outputs": [],
   "source": [
    "def rosenbrock_function(x):\n",
    "    return 10 * (x[1] - x[0]**2)**2 + (x[0] - 1)**2\n",
    "\n",
    "def grad_rosenbrock(x):\n",
    "    return np.array([40 * x[0]**3 + (2 - 40 * x[1]) * x[0] - 2, 20 * (x[1] - x[0]**2)]) \n",
    "\n",
    "def quadratic_function(x):\n",
    "    return 0.5 * np.dot(x.T, np.dot(A, x)) - np.dot(b.T, x)\n",
    "\n",
    "def grad_quadratic(x):\n",
    "    return np.dot(A, x) - b"
   ]
  },
  {
   "cell_type": "code",
   "execution_count": null,
   "metadata": {},
   "outputs": [],
   "source": [
    "func_name = 'rosenbrock'"
   ]
  },
  {
   "cell_type": "code",
   "execution_count": null,
   "metadata": {},
   "outputs": [],
   "source": [
    "if func_name == 'rosenbrock'\n",
    "    f = rosenbrock_function\n",
    "    gradf = grad_rosenbrock\n",
    "    alpha_0 = 0.06\n",
    "    beta_0 = 0.1\n",
    "    c_1 = 1e-4 \n",
    "    c_2 = 0.99\n",
    "elif func_name == 'quadratic':\n",
    "    f = quadratic_function\n",
    "    gradf = grad_quadratic\n",
    "    alpha_0 = 0.3\n",
    "    beta_0 = 0.8\n",
    "    c_1 = 1e-4\n",
    "    c_2 = 0.9"
   ]
  },
  {
   "cell_type": "code",
   "execution_count": null,
   "metadata": {},
   "outputs": [],
   "source": [
    "rho = 0.75\n",
    "epsilon = 1e-2"
   ]
  },
  {
   "cell_type": "code",
   "execution_count": null,
   "metadata": {},
   "outputs": [],
   "source": [
    "def gradient_descent(start_point, stepsize_func, max_iter=1000):\n",
    "    x = start_point.copy()\n",
    "    trajectory = [x.copy()]\n",
    "    for _ in range(max_iter):\n",
    "        grad = gradf(x)\n",
    "        step_size = stepsize_func(x, grad)\n",
    "        x -= step_size * grad\n",
    "        trajectory.append(x.copy())\n",
    "    return np.array(trajectory)"
   ]
  }
 ],
 "metadata": {
  "language_info": {
   "name": "python"
  }
 },
 "nbformat": 4,
 "nbformat_minor": 2
}
