{
 "cells": [
  {
   "cell_type": "code",
   "execution_count": 1,
   "metadata": {},
   "outputs": [],
   "source": [
    "import numpy as np\n",
    "import matplotlib.pyplot as plt\n",
    "from scipy.optimize import minimize_scalar\n",
    "from scipy.optimize import bracket\n",
    "np.random.seed(214)"
   ]
  },
  {
   "cell_type": "code",
   "execution_count": 2,
   "metadata": {},
   "outputs": [],
   "source": [
    "cond_number = 30\n",
    "M = np.random.randn(2, 2)\n",
    "M = np.dot(M, M.T)\n",
    "U, s, V = np.linalg.svd(M)\n",
    "s = np.linspace(cond_number, 1, len(s))\n",
    "A = np.dot(U, np.dot(np.diag(s), V))\n",
    "b = np.random.randn(2)"
   ]
  },
  {
   "cell_type": "code",
   "execution_count": 3,
   "metadata": {},
   "outputs": [],
   "source": [
    "def rosenbrock_function(x):\n",
    "    return 10 * (x[1] - x[0]**2)**2 + (x[0] - 1)**2\n",
    "\n",
    "def grad_rosenbrock(x):\n",
    "    return np.array([40 * x[0]**3 + (2 - 40 * x[1]) * x[0] - 2, 20 * (x[1] - x[0]**2)]) \n",
    "\n",
    "def quadratic_function(x):\n",
    "    return 0.5 * np.dot(x.T, np.dot(A, x)) - np.dot(b.T, x)\n",
    "\n",
    "def grad_quadratic(x):\n",
    "    return np.dot(A, x) - b"
   ]
  },
  {
   "cell_type": "code",
   "execution_count": 4,
   "metadata": {},
   "outputs": [],
   "source": [
    "func_name = 'rosenbrock'"
   ]
  },
  {
   "cell_type": "code",
   "execution_count": 6,
   "metadata": {},
   "outputs": [],
   "source": [
    "if func_name == 'rosenbrock':\n",
    "    f = rosenbrock_function\n",
    "    gradf = grad_rosenbrock\n",
    "    alpha_0 = 0.06\n",
    "    beta_0 = 0.1\n",
    "    c_1 = 1e-4 \n",
    "    c_2 = 0.99\n",
    "    optimal_point = np.array([1.0, 1.0])\n",
    "elif func_name == 'quadratic':\n",
    "    f = quadratic_function\n",
    "    gradf = grad_quadratic\n",
    "    alpha_0 = 0.3\n",
    "    beta_0 = 0.8\n",
    "    c_1 = 1e-4\n",
    "    c_2 = 0.9\n",
    "    optimal_point = np.linalg.solve(A, b)"
   ]
  },
  {
   "cell_type": "code",
   "execution_count": 7,
   "metadata": {},
   "outputs": [],
   "source": [
    "rho = 0.75\n",
    "epsilon = 1e-2"
   ]
  },
  {
   "cell_type": "code",
   "execution_count": 8,
   "metadata": {},
   "outputs": [],
   "source": [
    "def gradient_descent(start_point, stepsize_func, max_iter=1000):\n",
    "    x = start_point.copy()\n",
    "    trajectory = [x.copy()]\n",
    "    for _ in range(max_iter):\n",
    "        grad = gradf(x)\n",
    "        step_size = stepsize_func(x, grad)\n",
    "        x -= step_size * grad\n",
    "        trajectory.append(x.copy())\n",
    "    return np.array(trajectory)"
   ]
  },
  {
   "cell_type": "code",
   "execution_count": 9,
   "metadata": {},
   "outputs": [],
   "source": [
    "\n",
    "def backtracking_line_search(x, grad, method='default', alpha=alpha_0, beta=beta_0):\n",
    "    def objective(t):\n",
    "        return f(x - t * grad)\n",
    "\n",
    "    def sufficient_decrease_condition():\n",
    "        return objective(alpha) <= f(x) - c_1 * alpha * grad.T @ grad \n",
    "\n",
    "    def curvature_condition():\n",
    "        return gradf(x - alpha * grad).T @ grad <= c_2 * grad.T @ grad \n",
    "   \n",
    "    def wolfe_condition():\n",
    "        return sufficient_decrease_condition() and curvature_condition()\n",
    "\n",
    "    def goldstein_condition():\n",
    "        return objective(alpha) >= f(x) - rho * alpha * grad.T @ grad \\\n",
    "           and objective(alpha) <= f(x) - (1 - rho) * alpha * grad.T @ grad\n",
    "\n",
    "    def dichotomy():\n",
    "        a, _, b, _, _, _, _ = bracket(objective)\n",
    "        c = (a + b) / 2\n",
    "        while abs(b - a) > epsilon:\n",
    "            y = (a + c) / 2\n",
    "            if objective(y) <= objective(c):\n",
    "                b, c = c, y \n",
    "            else:\n",
    "                z = (b + c) / 2\n",
    "                if objective(c) <= objective(z):\n",
    "                    a, b = y, z\n",
    "                else:\n",
    "                    a, c = c, z\n",
    "        return c\n",
    "\n",
    "    if method == 'default':\n",
    "        res = minimize_scalar(objective, method='golden')\n",
    "        return res.x\n",
    "    elif method == 'dichotomy':\n",
    "        return dichotomy() \n",
    "    elif method == 'wolfe':\n",
    "        condition = wolfe_condition\n",
    "    elif method == 'curvature':\n",
    "        condition = curvature_condition\n",
    "    elif method == 'goldstein':\n",
    "        condition = goldstein_condition\n",
    "    elif method == 'sufficient_decrease':\n",
    "        condition = sufficient_decrease_condition\n",
    "    else:\n",
    "        raise Exception('unsupported method')\n",
    "\n",
    "    while not condition():\n",
    "        alpha *= beta\n",
    "    return alpha"
   ]
  },
  {
   "cell_type": "code",
   "execution_count": 10,
   "metadata": {},
   "outputs": [
    {
     "ename": "IndentationError",
     "evalue": "unexpected indent (2584986001.py, line 3)",
     "output_type": "error",
     "traceback": [
      "\u001b[0;36m  Cell \u001b[0;32mIn[10], line 3\u001b[0;36m\u001b[0m\n\u001b[0;31m    trajectory_fixed = gradient_descent(start_point, lambda x, g: 1e-3)\u001b[0m\n\u001b[0m    ^\u001b[0m\n\u001b[0;31mIndentationError\u001b[0m\u001b[0;31m:\u001b[0m unexpected indent\n"
     ]
    }
   ],
   "source": [
    "start_point = np.array([-1.0, 2.0])\n",
    "\n",
    "    trajectory_fixed = gradient_descent(start_point, lambda x, g: 1e-3)\n",
    "    trajectory_backtracking = gradient_descent(start_point, lambda x, g: backtracking_line_search(x, g, method=method))\n",
    "\n",
    "    x1, x2 = np.meshgrid(np.linspace(-2.5, 2.5, 400), np.linspace(-2.5, 2.5, 400))\n",
    "    Z = np.array([f(np.array([x, y])) for x, y in zip(x1.flatten(), x2.flatten())]).reshape(x1.shape)\n",
    "\n",
    "    plt.figure(figsize=(10, 8))\n",
    "    plt.contour(x1, x2, Z, levels=50, cmap='viridis')\n",
    "    plt.plot(trajectory_fixed[:, 0], trajectory_fixed[:, 1], 'o-', label='Fixed Step Size')\n",
    "    plt.plot(trajectory_backtracking[:, 0], trajectory_backtracking[:, 1], 'o-', label=f\"Backtracking Line Search With Method '{method}'\")\n",
    "\n",
    "    plt.plot(start_point[0], start_point[1], 'ro', label='Start Point')\n",
    "    plt.plot(optimal_point[0], optimal_point[1], 'y*', markersize=15, label='Optimal Point')\n",
    "\n",
    "    plt.legend()\n",
    "    plt.title(f\"Gradient Descent Trajectories on '{func_name}' Function Using Method '{method}'\")\n",
    "    plt.xlabel('x1')\n",
    "    plt.ylabel('x2')\n",
    "    plt.savefig(f'{method}_{func_name}_.svg')"
   ]
  }
 ],
 "metadata": {
  "kernelspec": {
   "display_name": "Python 3",
   "language": "python",
   "name": "python3"
  },
  "language_info": {
   "codemirror_mode": {
    "name": "ipython",
    "version": 3
   },
   "file_extension": ".py",
   "mimetype": "text/x-python",
   "name": "python",
   "nbconvert_exporter": "python",
   "pygments_lexer": "ipython3",
   "version": "3.11.6"
  }
 },
 "nbformat": 4,
 "nbformat_minor": 2
}
